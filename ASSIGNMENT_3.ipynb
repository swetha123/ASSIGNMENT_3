{
 "cells": [
  {
   "cell_type": "markdown",
   "id": "659a74bb",
   "metadata": {},
   "source": [
    "# ASSIGNMENT 3"
   ]
  },
  {
   "cell_type": "markdown",
   "id": "51f4738c",
   "metadata": {},
   "source": [
    "1. Why are functions advantageous to have in your programs?\n",
    "\n",
    "Ans - functions are block of code that perform a particular task. with functions, one can reduce repeating writing the code for the same task again and again. once the function is defined , it can be called any number of times which improves the program efficiency. functions can be used by other programmers also for a specific task the way one use pre defined functions"
   ]
  },
  {
   "cell_type": "markdown",
   "id": "78e7a599",
   "metadata": {},
   "source": [
    "2. When does the code in a function run: when it is specified or when it&#39;s called?\n",
    "\n",
    "Ans - the code is run when the function is called. without calling a function,  computer will not run the defined part of function."
   ]
  },
  {
   "cell_type": "markdown",
   "id": "99e2197b",
   "metadata": {},
   "source": [
    "3. What statement creates a function?\n",
    "\n",
    "Ans - to define a function, we use keyword def followed by the name of the function, paranthesis and a  colon\n",
    "      \n",
    "      ex: def test1():"
   ]
  },
  {
   "cell_type": "markdown",
   "id": "d77078bb",
   "metadata": {},
   "source": [
    "4. What is the difference between a function and a function call?\n",
    "\n",
    "Ans -  function is piece of code that performs a specific task. the definition part of function contains the lines  of code that one want to execute when that function is run. to execute a function, we have to call a function by mentioning its name with paranthesis and passing required arguments."
   ]
  },
  {
   "cell_type": "markdown",
   "id": "933c308a",
   "metadata": {},
   "source": [
    "5. How many global scopes are there in a Python program? How many local scopes?\n",
    "\n",
    "Ans- only 1 golab scope for a global variable in python per execution of program. local scopes depends on whether they are local or enclosed."
   ]
  },
  {
   "cell_type": "markdown",
   "id": "35d5366d",
   "metadata": {},
   "source": [
    "6. What happens to variables in a local scope when the function call returns?\n",
    "\n",
    "Ans - once the function call returns, all the local variables are destroyed. when that same function is called again, the local variables are created again"
   ]
  },
  {
   "cell_type": "markdown",
   "id": "77c7b15b",
   "metadata": {},
   "source": [
    "7. What is the concept of a return value? Is it possible to have a return value in an expression?\n",
    "\n",
    "Ans  - return value is the final output of that function which it is returning to the calling function. function can return a value which could be a number, string , tuple or even a function call. but it can not return an expression.   it returns the putput of that expression."
   ]
  },
  {
   "cell_type": "markdown",
   "id": "3d202421",
   "metadata": {},
   "source": [
    "8. If a function does not have a return statement, what is the return value of a call to that function?\n",
    "\n",
    "Ans - if a function doens not have a return statement, it returns nonetype "
   ]
  },
  {
   "cell_type": "code",
   "execution_count": 2,
   "id": "4a66c9fc",
   "metadata": {},
   "outputs": [],
   "source": [
    "def fun1():\n",
    "    a=10\n",
    "    a= a*2\n",
    "    \n",
    "fun1()"
   ]
  },
  {
   "cell_type": "code",
   "execution_count": 3,
   "id": "4691b2e9",
   "metadata": {},
   "outputs": [
    {
     "data": {
      "text/plain": [
       "NoneType"
      ]
     },
     "execution_count": 3,
     "metadata": {},
     "output_type": "execute_result"
    }
   ],
   "source": [
    "type(fun1())"
   ]
  },
  {
   "cell_type": "markdown",
   "id": "a2302a61",
   "metadata": {},
   "source": [
    "9. How do you make a function variable refer to the global variable?\n",
    "\n",
    "Ans - to make a function variable refer to the global variable we use the keyword global.\n"
   ]
  },
  {
   "cell_type": "code",
   "execution_count": 6,
   "id": "0b62083f",
   "metadata": {},
   "outputs": [
    {
     "name": "stdout",
     "output_type": "stream",
     "text": [
      "101\n"
     ]
    }
   ],
   "source": [
    "# example\n",
    "var1 =100  # global variable\n",
    "def fun2 ():\n",
    "    global var1\n",
    "    var1 = var1+1\n",
    "    print(var1)\n",
    "    \n",
    "fun2()   \n"
   ]
  },
  {
   "cell_type": "markdown",
   "id": "44a87844",
   "metadata": {},
   "source": [
    "10. What is the data type of None?\n",
    "\n",
    "Ans - datatype of None is Nonetype itself."
   ]
  },
  {
   "cell_type": "code",
   "execution_count": 7,
   "id": "ca9896bb",
   "metadata": {},
   "outputs": [
    {
     "data": {
      "text/plain": [
       "NoneType"
      ]
     },
     "execution_count": 7,
     "metadata": {},
     "output_type": "execute_result"
    }
   ],
   "source": [
    "x = None\n",
    "type(x)"
   ]
  },
  {
   "cell_type": "markdown",
   "id": "ccfb1beb",
   "metadata": {},
   "source": [
    "11. What does the sentence import areallyourpetsnamederic do?\n",
    "\n",
    "Ans - it imports the module named areallyourpetsnamederic if it exists and contains all the functions , classes that can be used \n"
   ]
  },
  {
   "cell_type": "markdown",
   "id": "b2b10d58",
   "metadata": {},
   "source": [
    "12. If you had a bacon() feature in a spam module, what would you call it after importing spam?\n",
    "\n",
    "Ans -- spam.bacon()"
   ]
  },
  {
   "cell_type": "markdown",
   "id": "2f0247a4",
   "metadata": {},
   "source": [
    "13. What can you do to save a programme from crashing if it encounters an error?\n",
    "\n",
    "Ans -- to save a programme from crashing due to errors, we can handle it by using try and exception blocks. in try block , we can write the code as to what to happen in the normal running of the code and in the exception block, we can define what to be done in case of errors"
   ]
  },
  {
   "cell_type": "markdown",
   "id": "7939eecb",
   "metadata": {},
   "source": [
    "14. What is the purpose of the try clause? What is the purpose of the except clause?\n",
    "\n",
    "Ans - try clause is used to execute the code if nothing goea wrong . when the code does not have errors or so the code in the try block is executed. if code occurs some errors , it can be handled in the exception clause."
   ]
  },
  {
   "cell_type": "code",
   "execution_count": null,
   "id": "c01638ea",
   "metadata": {},
   "outputs": [],
   "source": []
  }
 ],
 "metadata": {
  "kernelspec": {
   "display_name": "Python 3 (ipykernel)",
   "language": "python",
   "name": "python3"
  },
  "language_info": {
   "codemirror_mode": {
    "name": "ipython",
    "version": 3
   },
   "file_extension": ".py",
   "mimetype": "text/x-python",
   "name": "python",
   "nbconvert_exporter": "python",
   "pygments_lexer": "ipython3",
   "version": "3.10.9"
  }
 },
 "nbformat": 4,
 "nbformat_minor": 5
}
